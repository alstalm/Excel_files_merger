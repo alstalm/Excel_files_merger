{
 "cells": [
  {
   "cell_type": "code",
   "execution_count": 13,
   "metadata": {},
   "outputs": [],
   "source": [
    "import yaml\n",
    "from pprint import pprint\n",
    "from functions import excelCombiner"
   ]
  },
  {
   "cell_type": "code",
   "execution_count": 14,
   "metadata": {},
   "outputs": [
    {
     "name": "stdout",
     "output_type": "stream",
     "text": [
      "{'directory': 'C:/Users/alsta/PycharmProjects/Jira_attachmets_downloader/downloads',\n",
      " 'notNANcolumnsList': ['ИНН участника'],\n",
      " 'sheet_name': 'Внесение изменений'}\n"
     ]
    }
   ],
   "source": [
    "with open('params.yaml', 'r', encoding='UTF-8' ) as f:\n",
    "    params = yaml.safe_load(f)\n",
    "pprint(params)"
   ]
  },
  {
   "cell_type": "markdown",
   "metadata": {},
   "source": [
    "### Зададим параметры в соответствии с записанными в params.yaml значениями"
   ]
  },
  {
   "cell_type": "code",
   "execution_count": 3,
   "metadata": {},
   "outputs": [],
   "source": [
    "directory = params['directory']\n",
    "sheet_name = params['sheet_name'] \n",
    "notNANcolumnsList = params['notNANcolumnsList']"
   ]
  },
  {
   "cell_type": "markdown",
   "metadata": {},
   "source": [
    "### При необходимости их можно скорректировать здесь"
   ]
  },
  {
   "cell_type": "code",
   "execution_count": null,
   "metadata": {},
   "outputs": [],
   "source": [
    "directory = 'C:/Users/alsta/PycharmProjects/Jira_attachmets_downloader/downloads'\n",
    "sheet_name = 'Внесение изменений'\n",
    "notNANcolumnsList = ['ИНН участника']"
   ]
  },
  {
   "cell_type": "markdown",
   "metadata": {},
   "source": [
    "### Запустим функцию объединения с заданными параметрами"
   ]
  },
  {
   "cell_type": "code",
   "execution_count": 4,
   "metadata": {},
   "outputs": [],
   "source": [
    "df, log_df = excelCombiner(directory=directory, sheet_name=sheet_name, notNANcolumnsList=notNANcolumnsList)"
   ]
  },
  {
   "cell_type": "markdown",
   "metadata": {},
   "source": [
    "### Проведем исследование данных"
   ]
  },
  {
   "cell_type": "code",
   "execution_count": 5,
   "metadata": {},
   "outputs": [
    {
     "data": {
      "text/html": [
       "<div>\n",
       "<style scoped>\n",
       "    .dataframe tbody tr th:only-of-type {\n",
       "        vertical-align: middle;\n",
       "    }\n",
       "\n",
       "    .dataframe tbody tr th {\n",
       "        vertical-align: top;\n",
       "    }\n",
       "\n",
       "    .dataframe thead th {\n",
       "        text-align: right;\n",
       "    }\n",
       "</style>\n",
       "<table border=\"1\" class=\"dataframe\">\n",
       "  <thead>\n",
       "    <tr style=\"text-align: right;\">\n",
       "      <th></th>\n",
       "      <th>fileName</th>\n",
       "    </tr>\n",
       "    <tr>\n",
       "      <th>errorMeassge</th>\n",
       "      <th></th>\n",
       "    </tr>\n",
       "  </thead>\n",
       "  <tbody>\n",
       "    <tr>\n",
       "      <th>No sheet named &lt;'Внесение изменений'&gt;</th>\n",
       "      <td>250</td>\n",
       "    </tr>\n",
       "    <tr>\n",
       "      <th>['ИНН участника']</th>\n",
       "      <td>1</td>\n",
       "    </tr>\n",
       "  </tbody>\n",
       "</table>\n",
       "</div>"
      ],
      "text/plain": [
       "                                       fileName\n",
       "errorMeassge                                   \n",
       "No sheet named <'Внесение изменений'>       250\n",
       "['ИНН участника']                             1"
      ]
     },
     "execution_count": 5,
     "metadata": {},
     "output_type": "execute_result"
    }
   ],
   "source": [
    "log_df.groupby(['errorMeassge']).count()"
   ]
  },
  {
   "cell_type": "code",
   "execution_count": 6,
   "metadata": {},
   "outputs": [
    {
     "name": "stdout",
     "output_type": "stream",
     "text": [
      "<class 'pandas.core.frame.DataFrame'>\n",
      "Int64Index: 197263 entries, 0 to 5\n",
      "Data columns (total 25 columns):\n",
      " #   Column                                                  Non-Null Count   Dtype  \n",
      "---  ------                                                  --------------   -----  \n",
      " 0   ИНН участника                                           197263 non-null  object \n",
      " 1   GTIN\n",
      "(Код товара)                                       195780 non-null  object \n",
      " 2   Статус карточки                                         196993 non-null  object \n",
      " 3   Статус КМ                                               92729 non-null   object \n",
      " 4   Наименование атрибута                                   195139 non-null  object \n",
      " 5   Текущее значение атрибута                               193910 non-null  object \n",
      " 6   Новое значение атрибута                                 194079 non-null  object \n",
      " 7   fileName                                                197263 non-null  object \n",
      " 8   GTIN                                                    1483 non-null    float64\n",
      " 9   Unnamed: 7                                              2050 non-null    object \n",
      " 10  Наименование атрибута.1                                 108 non-null     object \n",
      " 11  Текущее значение атрибута.1                             123 non-null     object \n",
      " 12  Новое значение атрибута.1                               108 non-null     object \n",
      " 13  Unnamed: 8                                              76802 non-null   object \n",
      " 14  Жирность, %                                             0 non-null       float64\n",
      " 15  Текущее значение атрибута (ТНВЭД)                       3004 non-null    float64\n",
      " 16  Новое значение атрибута (ТНВЭД)                         3004 non-null    float64\n",
      " 17  Текущее значение атрибута (группа ТНВЭД)                1502 non-null    float64\n",
      " 18  Новое значение атрибута               (группа ТНВЭД)    1502 non-null    float64\n",
      " 19  Текущее значение атрибута (код ТНВЭД)                   1502 non-null    float64\n",
      " 20  Новое значение атрибута                    (код ТНВЭД)  1502 non-null    float64\n",
      " 21  кто редактирует                                         76751 non-null   object \n",
      " 22  Товарный знак                                           1 non-null       object \n",
      " 23  АТРИБУТ                                                 34 non-null      object \n",
      " 24  КОД ТОВАРА УПАКОВКИ \n",
      "(групповой штрихкод)               34 non-null      float64\n",
      "dtypes: float64(9), object(16)\n",
      "memory usage: 39.1+ MB\n"
     ]
    }
   ],
   "source": [
    "df.info()"
   ]
  },
  {
   "cell_type": "code",
   "execution_count": 11,
   "metadata": {},
   "outputs": [
    {
     "data": {
      "text/html": [
       "<div>\n",
       "<style scoped>\n",
       "    .dataframe tbody tr th:only-of-type {\n",
       "        vertical-align: middle;\n",
       "    }\n",
       "\n",
       "    .dataframe tbody tr th {\n",
       "        vertical-align: top;\n",
       "    }\n",
       "\n",
       "    .dataframe thead th {\n",
       "        text-align: right;\n",
       "    }\n",
       "</style>\n",
       "<table border=\"1\" class=\"dataframe\">\n",
       "  <thead>\n",
       "    <tr style=\"text-align: right;\">\n",
       "      <th></th>\n",
       "      <th>ИНН участника</th>\n",
       "    </tr>\n",
       "  </thead>\n",
       "  <tbody>\n",
       "    <tr>\n",
       "      <th>count</th>\n",
       "      <td>371.000000</td>\n",
       "    </tr>\n",
       "    <tr>\n",
       "      <th>mean</th>\n",
       "      <td>531.706199</td>\n",
       "    </tr>\n",
       "    <tr>\n",
       "      <th>std</th>\n",
       "      <td>5089.930019</td>\n",
       "    </tr>\n",
       "    <tr>\n",
       "      <th>min</th>\n",
       "      <td>1.000000</td>\n",
       "    </tr>\n",
       "    <tr>\n",
       "      <th>25%</th>\n",
       "      <td>1.000000</td>\n",
       "    </tr>\n",
       "    <tr>\n",
       "      <th>50%</th>\n",
       "      <td>6.000000</td>\n",
       "    </tr>\n",
       "    <tr>\n",
       "      <th>75%</th>\n",
       "      <td>30.000000</td>\n",
       "    </tr>\n",
       "    <tr>\n",
       "      <th>max</th>\n",
       "      <td>76751.000000</td>\n",
       "    </tr>\n",
       "  </tbody>\n",
       "</table>\n",
       "</div>"
      ],
      "text/plain": [
       "       ИНН участника\n",
       "count     371.000000\n",
       "mean      531.706199\n",
       "std      5089.930019\n",
       "min         1.000000\n",
       "25%         1.000000\n",
       "50%         6.000000\n",
       "75%        30.000000\n",
       "max     76751.000000"
      ]
     },
     "execution_count": 11,
     "metadata": {},
     "output_type": "execute_result"
    }
   ],
   "source": [
    "df2 = df[['fileName', 'ИНН участника']].groupby(['fileName']).count().describe()\n",
    "df2"
   ]
  },
  {
   "cell_type": "code",
   "execution_count": 12,
   "metadata": {},
   "outputs": [
    {
     "data": {
      "text/html": [
       "<div>\n",
       "<style scoped>\n",
       "    .dataframe tbody tr th:only-of-type {\n",
       "        vertical-align: middle;\n",
       "    }\n",
       "\n",
       "    .dataframe tbody tr th {\n",
       "        vertical-align: top;\n",
       "    }\n",
       "\n",
       "    .dataframe thead th {\n",
       "        text-align: right;\n",
       "    }\n",
       "</style>\n",
       "<table border=\"1\" class=\"dataframe\">\n",
       "  <thead>\n",
       "    <tr style=\"text-align: right;\">\n",
       "      <th></th>\n",
       "      <th>ИНН участника</th>\n",
       "    </tr>\n",
       "  </thead>\n",
       "  <tbody>\n",
       "    <tr>\n",
       "      <th>std</th>\n",
       "      <td>5089.930019</td>\n",
       "    </tr>\n",
       "    <tr>\n",
       "      <th>max</th>\n",
       "      <td>76751.000000</td>\n",
       "    </tr>\n",
       "  </tbody>\n",
       "</table>\n",
       "</div>"
      ],
      "text/plain": [
       "     ИНН участника\n",
       "std    5089.930019\n",
       "max   76751.000000"
      ]
     },
     "execution_count": 12,
     "metadata": {},
     "output_type": "execute_result"
    }
   ],
   "source": [
    "df2.loc[df2['ИНН участника']>3000]"
   ]
  },
  {
   "cell_type": "code",
   "execution_count": null,
   "metadata": {},
   "outputs": [],
   "source": []
  }
 ],
 "metadata": {
  "kernelspec": {
   "display_name": "Python 3",
   "language": "python",
   "name": "python3"
  },
  "language_info": {
   "codemirror_mode": {
    "name": "ipython",
    "version": 3
   },
   "file_extension": ".py",
   "mimetype": "text/x-python",
   "name": "python",
   "nbconvert_exporter": "python",
   "pygments_lexer": "ipython3",
   "version": "3.7.6"
  }
 },
 "nbformat": 4,
 "nbformat_minor": 4
}
